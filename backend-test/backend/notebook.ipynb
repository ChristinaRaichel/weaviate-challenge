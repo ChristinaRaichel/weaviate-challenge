{
 "cells": [
  {
   "cell_type": "code",
   "execution_count": 1,
   "metadata": {},
   "outputs": [
    {
     "name": "stderr",
     "output_type": "stream",
     "text": [
      "/home/chris/Roadmap/weaviate_projects/code-rag/.venv/lib/python3.10/site-packages/tqdm/auto.py:21: TqdmWarning: IProgress not found. Please update jupyter and ipywidgets. See https://ipywidgets.readthedocs.io/en/stable/user_install.html\n",
      "  from .autonotebook import tqdm as notebook_tqdm\n"
     ]
    }
   ],
   "source": [
    "from backend.db_functions import populate, find_and_rag\n",
    "import secrets\n",
    "\n",
    "import logging as log\n",
    "import weaviate\n",
    "\n",
    "classname = \"CodeDocv4\""
   ]
  },
  {
   "cell_type": "code",
   "execution_count": 2,
   "metadata": {},
   "outputs": [
    {
     "name": "stderr",
     "output_type": "stream",
     "text": [
      "/home/chris/Roadmap/weaviate_projects/code-rag/.venv/lib/python3.10/site-packages/weaviate/warnings.py:121: DeprecationWarning: Dep005: You are using weaviate-client version 3.26.2. The latest version is 4.6.3.\n",
      "            Please consider upgrading to the latest version. See https://weaviate.io/developers/weaviate/client-libraries/python for details.\n",
      "  warnings.warn(\n"
     ]
    }
   ],
   "source": [
    "try:\n",
    "    client = weaviate.Client(\n",
    "        url = secrets.WEAVIATE_URL,  \n",
    "        auth_client_secret=weaviate.auth.AuthApiKey(api_key=secrets.WEAVIATE_AUTH_KEY),  \n",
    "        additional_headers = {\n",
    "        \"X-Cohere-Api-Key\": secrets.COHERE_API_KEY\n",
    "        }\n",
    "    )\n",
    "    log.info('client created')\n",
    "except:\n",
    "    log.error('client cannot be created')\n",
    "    raise ConnectionRefusedError"
   ]
  },
  {
   "cell_type": "code",
   "execution_count": 3,
   "metadata": {},
   "outputs": [
    {
     "name": "stderr",
     "output_type": "stream",
     "text": [
      "INFO:root:loaded dataset\n",
      "INFO:root:class created\n"
     ]
    },
    {
     "name": "stdout",
     "output_type": "stream",
     "text": [
      "Import 0 \n",
      "Import 5 / 49626\n"
     ]
    },
    {
     "name": "stderr",
     "output_type": "stream",
     "text": [
      "INFO:root:data imported in collection\n"
     ]
    },
    {
     "name": "stdout",
     "output_type": "stream",
     "text": [
      "Import complete\n"
     ]
    }
   ],
   "source": [
    "populate(client,classname)"
   ]
  },
  {
   "cell_type": "code",
   "execution_count": 4,
   "metadata": {},
   "outputs": [
    {
     "name": "stderr",
     "output_type": "stream",
     "text": [
      "INFO:root:finding code and explanation\n"
     ]
    },
    {
     "name": "stdout",
     "output_type": "stream",
     "text": [
      "{'data': {'Get': {'CodeDocv4': [{'_additional': {'generate': {'error': None, 'singleResult': 'This Python code creates a simple shopping list program. It allows the user to input items they want to add to their shopping list, along with the quantity of each item. The program then stores these items and quantities in a dictionary called `shopping_list`. Here\\'s an explanation of the code in learner-friendly language:\\n```python\\nshopping_list = {}  # Initialize an empty dictionary to store the shopping list\\n\\nwhile True:  # Start an infinite loop\\n    item = input(\\'Enter an item or type \"done\" to finish: \\')  # Prompt the user for an item\\n    if item == \\'done\\':  # Check if the user wants to finish\\n        break  # If \"done\" is entered, break out of the loop\\n\\n    quantity = input(f\\'Enter the quantity for {item}: \\')  # Prompt for the quantity of the item\\n    shopping_list[item] = quantity  # Add the item and quantity to the shopping list dictionary\\n\\nprint(f\\'Your shopping list: {shopping_list}\\')  # Print the final shopping list\\n```\\n\\n**Pseudocode/Algorithm:**\\nHere\\'s a step-by-step algorithm for the above Python code:\\n```\\n1. Initialize an empty dictionary called shoppingList.\\n2. Start a loop that continues indefinitely.\\n3. Prompt the user to enter an item or type \"done\" to finish.\\n4. Read the user\\'s input and store it in a variable called item.\\n5. Check if the item is equal to \"done\".\\n6. If the item is \"done\", break out of the loop.\\n7. Otherwise, prompt the user to enter the quantity for the item.\\n8. Read the user\\'s input and store it in a variable called quantity.\\n9. Add the item and quantity as a key-value pair in the shoppingList dictionary.\\n10. Repeat steps 3 to 9 until the user enters \"done\".\\n11. After the loop ends, print the final shopping list stored in the shoppingList dictionary.\\n```\\n\\nThis algorithm outlines the steps the program takes to create a shopping list based on user input. It demonstrates how to use a loop, conditional statements, and a dictionary to collect and store data in a structured manner.'}}, 'instruction': 'Create a shopping list based on my inputs!', 'output': \"```python\\nshopping_list = {}\\nwhile True:\\n    item = input('Enter an item or type 'done' to finish: ')\\n    if item == 'done': break\\n    quantity = input(f'Enter the quantity for {item}: ')\\n    shopping_list[item] = quantity\\nprint(f'Your shopping list: {shopping_list}')\\n```\"}]}}}\n",
      "This Python code creates a simple shopping list program. It allows the user to input items they want to add to their shopping list, along with the quantity of each item. The program then stores these items and quantities in a dictionary called `shopping_list`. Here's an explanation of the code in learner-friendly language:\n",
      "```python\n",
      "shopping_list = {}  # Initialize an empty dictionary to store the shopping list\n",
      "\n",
      "while True:  # Start an infinite loop\n",
      "    item = input('Enter an item or type \"done\" to finish: ')  # Prompt the user for an item\n",
      "    if item == 'done':  # Check if the user wants to finish\n",
      "        break  # If \"done\" is entered, break out of the loop\n",
      "\n",
      "    quantity = input(f'Enter the quantity for {item}: ')  # Prompt for the quantity of the item\n",
      "    shopping_list[item] = quantity  # Add the item and quantity to the shopping list dictionary\n",
      "\n",
      "print(f'Your shopping list: {shopping_list}')  # Print the final shopping list\n",
      "```\n",
      "\n",
      "**Pseudocode/Algorithm:**\n",
      "Here's a step-by-step algorithm for the above Python code:\n",
      "```\n",
      "1. Initialize an empty dictionary called shoppingList.\n",
      "2. Start a loop that continues indefinitely.\n",
      "3. Prompt the user to enter an item or type \"done\" to finish.\n",
      "4. Read the user's input and store it in a variable called item.\n",
      "5. Check if the item is equal to \"done\".\n",
      "6. If the item is \"done\", break out of the loop.\n",
      "7. Otherwise, prompt the user to enter the quantity for the item.\n",
      "8. Read the user's input and store it in a variable called quantity.\n",
      "9. Add the item and quantity as a key-value pair in the shoppingList dictionary.\n",
      "10. Repeat steps 3 to 9 until the user enters \"done\".\n",
      "11. After the loop ends, print the final shopping list stored in the shoppingList dictionary.\n",
      "```\n",
      "\n",
      "This algorithm outlines the steps the program takes to create a shopping list based on user input. It demonstrates how to use a loop, conditional statements, and a dictionary to collect and store data in a structured manner.\n",
      "```python\n",
      "shopping_list = {}\n",
      "while True:\n",
      "    item = input('Enter an item or type 'done' to finish: ')\n",
      "    if item == 'done': break\n",
      "    quantity = input(f'Enter the quantity for {item}: ')\n",
      "    shopping_list[item] = quantity\n",
      "print(f'Your shopping list: {shopping_list}')\n",
      "```\n"
     ]
    }
   ],
   "source": [
    "\n",
    "concept = [\"code for shopping list\"]\n",
    "log.info('finding code and explanation')\n",
    "\n",
    "try:\n",
    "    explanation_pseudo, code = find_and_rag(concept, client, classname = classname)\n",
    "    print(explanation_pseudo)\n",
    "    print(code)\n",
    "except:\n",
    "    log.error('Error generating code and explanation')\n"
   ]
  },
  {
   "cell_type": "code",
   "execution_count": null,
   "metadata": {},
   "outputs": [],
   "source": []
  }
 ],
 "metadata": {
  "kernelspec": {
   "display_name": ".venv",
   "language": "python",
   "name": "python3"
  },
  "language_info": {
   "codemirror_mode": {
    "name": "ipython",
    "version": 3
   },
   "file_extension": ".py",
   "mimetype": "text/x-python",
   "name": "python",
   "nbconvert_exporter": "python",
   "pygments_lexer": "ipython3",
   "version": "3.10.11"
  }
 },
 "nbformat": 4,
 "nbformat_minor": 2
}
